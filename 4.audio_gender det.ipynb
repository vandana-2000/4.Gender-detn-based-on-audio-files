{
 "cells": [
  {
   "cell_type": "markdown",
   "metadata": {},
   "source": [
    "# GENDER PREDICTION FROM AUDIO FILES"
   ]
  },
  {
   "cell_type": "markdown",
   "metadata": {},
   "source": [
    "Import the necessary libraries"
   ]
  },
  {
   "cell_type": "code",
   "execution_count": 1,
   "metadata": {},
   "outputs": [
    {
     "name": "stderr",
     "output_type": "stream",
     "text": [
      "C:\\Users\\SARATHLAL\\AppData\\Local\\Packages\\PythonSoftwareFoundation.Python.3.11_qbz5n2kfra8p0\\LocalCache\\local-packages\\Python311\\site-packages\\pydub\\utils.py:170: RuntimeWarning: Couldn't find ffmpeg or avconv - defaulting to ffmpeg, but may not work\n",
      "  warn(\"Couldn't find ffmpeg or avconv - defaulting to ffmpeg, but may not work\", RuntimeWarning)\n"
     ]
    }
   ],
   "source": [
    "import os\n",
    "import tkinter as tk\n",
    "from tkinter import filedialog, messagebox\n",
    "from pydub import AudioSegment\n",
    "import speech_recognition as sr\n",
    "import librosa\n",
    "import numpy as np\n",
    "from sklearn.svm import SVC\n",
    "from sklearn.model_selection import train_test_split\n",
    "from sklearn.metrics import accuracy_score\n",
    "import pickle\n",
    "import sounddevice as sd\n",
    "from scipy.io.wavfile import write"
   ]
  },
  {
   "cell_type": "markdown",
   "metadata": {},
   "source": [
    "Feature Extraction"
   ]
  },
  {
   "cell_type": "code",
   "execution_count": 2,
   "metadata": {},
   "outputs": [],
   "source": [
    "def extract_features(file_path):\n",
    "    y, sr = librosa.load(file_path, sr=None)\n",
    "    mfccs = librosa.feature.mfcc(y=y, sr=sr, n_mfcc=13)\n",
    "    mfccs_mean = np.mean(mfccs.T, axis=0)\n",
    "    return mfccs_mean"
   ]
  },
  {
   "cell_type": "markdown",
   "metadata": {},
   "source": [
    "Train the model on the dataset"
   ]
  },
  {
   "cell_type": "code",
   "execution_count": 3,
   "metadata": {},
   "outputs": [],
   "source": [
    "def load_and_train_model(dataset_path):\n",
    "    features = []\n",
    "    labels = []\n",
    "    \n",
    "    for gender in [\"MALE\", \"FEMALE\"]:\n",
    "        gender_dir = os.path.join(dataset_path, gender)\n",
    "        label = 1 if gender == \"MALE\" else 0\n",
    "        for file_name in os.listdir(gender_dir):\n",
    "            file_path = os.path.join(gender_dir, file_name)\n",
    "            feature = extract_features(file_path)\n",
    "            features.append(feature)\n",
    "            labels.append(label)\n",
    "    \n",
    "    X = np.array(features)\n",
    "    y = np.array(labels)\n",
    "    \n",
    "    # Split the dataset into training and test sets\n",
    "    X_train, X_test, y_train, y_test = train_test_split(X, y, test_size=0.2, random_state=42)\n",
    "    \n",
    "    # Train a classifier\n",
    "    model = SVC(kernel='linear', probability=True)\n",
    "    model.fit(X_train, y_train)\n",
    "    \n",
    "    # Evaluate the model\n",
    "    y_pred = model.predict(X_test)\n",
    "    accuracy = accuracy_score(y_test, y_pred)\n",
    "    print(f\"Model Accuracy: {accuracy * 100:.2f}%\")\n",
    "    \n",
    "    # Save the model\n",
    "    with open('gender_prediction_model.pkl', 'wb') as f:\n",
    "        pickle.dump(model, f)\n",
    "    \n",
    "    return model\n"
   ]
  },
  {
   "cell_type": "markdown",
   "metadata": {},
   "source": [
    "Process the audio file and make predictions"
   ]
  },
  {
   "cell_type": "code",
   "execution_count": 11,
   "metadata": {},
   "outputs": [],
   "source": [
    "def process_file(file_path, model):\n",
    "    recognizer = sr.Recognizer()\n",
    "    \n",
    "    # Convert audio to text\n",
    "    with sr.AudioFile(file_path) as source:\n",
    "        audio = recognizer.record(source)\n",
    "        try:\n",
    "            audio_text = recognizer.recognize_google(audio)\n",
    "            print(f\"Recognized Text: {audio_text}\")\n",
    "        except sr.UnknownValueError:\n",
    "            audio_text = \"\"\n",
    "            messagebox.showerror(\"Error\", \"Google Speech Recognition could not understand the audio.\")\n",
    "        except sr.RequestError as e:\n",
    "            messagebox.showerror(\"Error\", f\"Could not request results from Google Speech Recognition service; {e}\")\n",
    "            return\n",
    "    \n",
    "    # Check if \"HI\" is in the audio\n",
    "    if \"HI\" in audio_text.upper():\n",
    "        messagebox.showerror(\"Error\", \"The audio contains the word 'HI'. Please upload or record a voice note without 'HI'.\")\n",
    "        return\n",
    "    \n",
    "    # Check duration\n",
    "    audio_segment = AudioSegment.from_wav(file_path)\n",
    "    duration_seconds = len(audio_segment) / 1000\n",
    "    if duration_seconds < 30:\n",
    "        messagebox.showerror(\"Error\", \"The audio is less than 30 seconds. Please upload or record a longer voice note.\")\n",
    "        return\n",
    "    \n",
    "    # Check if the audio is blank\n",
    "    if not audio_text.strip():\n",
    "        messagebox.showerror(\"Error\", \"The audio is blank. Please speak and try again.\")\n",
    "        return\n",
    "    \n",
    "    # Extract features and predict gender\n",
    "    features = extract_features(file_path).reshape(1, -1)\n",
    "    gender_prediction = model.predict(features)[0]\n",
    "    \n",
    "    gender = \"Male\" if gender_prediction == 1 else \"Female\"\n",
    "    messagebox.showinfo(\"Gender Prediction\", f\"The predicted gender is: {gender}\")\n"
   ]
  },
  {
   "cell_type": "markdown",
   "metadata": {},
   "source": [
    "Function to upload an audio file"
   ]
  },
  {
   "cell_type": "code",
   "execution_count": 5,
   "metadata": {},
   "outputs": [],
   "source": [
    "def upload_file():\n",
    "    file_path = filedialog.askopenfilename(filetypes=[(\"WAV Files\", \"*.wav\")])\n",
    "    if file_path:\n",
    "        process_file(file_path, gender_model)\n"
   ]
  },
  {
   "cell_type": "markdown",
   "metadata": {},
   "source": [
    "Function to record an audio file"
   ]
  },
  {
   "cell_type": "code",
   "execution_count": 6,
   "metadata": {},
   "outputs": [],
   "source": [
    "def record_audio():\n",
    "    duration = 10  # seconds\n",
    "    fs = 44100  # Sample rate\n",
    "    messagebox.showinfo(\"Recording\", \"Recording will start. Please speak into the microphone.\")\n",
    "    \n",
    "    try:\n",
    "        # Record the audio\n",
    "        recording = sd.rec(int(duration * fs), samplerate=fs, channels=1, dtype='int16')\n",
    "        sd.wait()  # Wait until recording is finished\n",
    "        \n",
    "        # Normalize the recording\n",
    "        recording = np.int16(recording / np.max(np.abs(recording)) * 32767)\n",
    "        \n",
    "        # Save the recording as a WAV file\n",
    "        file_path = 'recorded_audio.wav'\n",
    "        write(file_path, fs, recording)\n",
    "        \n",
    "        # Process the recorded audio\n",
    "        process_file(file_path, gender_model)\n",
    "    except Exception as e:\n",
    "        messagebox.showerror(\"Error\", f\"An error occurred during recording: {str(e)}\")\n"
   ]
  },
  {
   "cell_type": "markdown",
   "metadata": {},
   "source": [
    "Load pre-trained gender prediction model"
   ]
  },
  {
   "cell_type": "code",
   "execution_count": 7,
   "metadata": {},
   "outputs": [
    {
     "name": "stdout",
     "output_type": "stream",
     "text": [
      "Model Accuracy: 100.00%\n"
     ]
    }
   ],
   "source": [
    "gender_model = load_and_train_model('SPEECH DATA')"
   ]
  },
  {
   "cell_type": "markdown",
   "metadata": {},
   "source": [
    "Setting up the GUI"
   ]
  },
  {
   "cell_type": "code",
   "execution_count": 10,
   "metadata": {},
   "outputs": [],
   "source": [
    "root = tk.Tk()\n",
    "root.title(\"Gender Prediction from Audio\")\n",
    "\n",
    "frame = tk.Frame(root, padx=10, pady=10)\n",
    "frame.pack(pady=20)\n",
    "\n",
    "upload_button = tk.Button(frame, text=\"Upload Audio File\", command=upload_file, width=30)\n",
    "upload_button.grid(row=0, column=0, pady=10)\n",
    "\n",
    "record_button = tk.Button(frame, text=\"Record Audio\", command=record_audio, width=30)\n",
    "record_button.grid(row=1, column=0, pady=10)\n",
    "\n",
    "root.mainloop()"
   ]
  }
 ],
 "metadata": {
  "kernelspec": {
   "display_name": "Python 3",
   "language": "python",
   "name": "python3"
  },
  "language_info": {
   "codemirror_mode": {
    "name": "ipython",
    "version": 3
   },
   "file_extension": ".py",
   "mimetype": "text/x-python",
   "name": "python",
   "nbconvert_exporter": "python",
   "pygments_lexer": "ipython3",
   "version": "3.11.9"
  }
 },
 "nbformat": 4,
 "nbformat_minor": 2
}
